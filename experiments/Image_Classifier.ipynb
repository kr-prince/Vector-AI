{
 "cells": [
  {
   "cell_type": "code",
   "execution_count": 1,
   "id": "2104c45f",
   "metadata": {},
   "outputs": [],
   "source": [
    "import gzip\n",
    "import numpy as np\n",
    "import matplotlib.pyplot as plt"
   ]
  },
  {
   "cell_type": "code",
   "execution_count": 2,
   "id": "508cf749",
   "metadata": {},
   "outputs": [],
   "source": [
    "train_images_path = '../data/fashion/train-images-idx3-ubyte.gz'\n",
    "train_labels_path = '../data/fashion/train-labels-idx1-ubyte.gz'\n",
    "test_images_path = '../data/fashion/t10k-images-idx3-ubyte.gz'\n",
    "test_labels_path = '../data/fashion/t10k-labels-idx1-ubyte.gz'"
   ]
  },
  {
   "cell_type": "code",
   "execution_count": 3,
   "id": "23b202dc",
   "metadata": {},
   "outputs": [],
   "source": [
    "IMG_H, IMG_W = 28, 28"
   ]
  },
  {
   "cell_type": "markdown",
   "id": "39f96a50",
   "metadata": {},
   "source": [
    "### Data Loading and Visualization"
   ]
  },
  {
   "cell_type": "code",
   "execution_count": 15,
   "id": "b6074ba6",
   "metadata": {},
   "outputs": [],
   "source": [
    "def load_image_data(filepath):\n",
    "  \"\"\"\n",
    "    Load the idx image data from given path\n",
    "    \n",
    "    Parameter(s):\n",
    "      filepath : path to the image dataset file\n",
    "  \"\"\"\n",
    "  with gzip.open(filepath, 'rb') as img_dataset:\n",
    "    images = np.frombuffer(img_dataset.read(), dtype=np.uint8, offset=16).reshape(-1, IMG_W, IMG_H)\n",
    "  return images"
   ]
  },
  {
   "cell_type": "code",
   "execution_count": 5,
   "id": "501700f4",
   "metadata": {},
   "outputs": [],
   "source": [
    "def load_label_data(filepath):\n",
    "  \"\"\"\n",
    "    Load the idx label data from given path\n",
    "    \n",
    "    Parameter(s):\n",
    "      filepath : path to the label dataset file\n",
    "  \"\"\"\n",
    "  with gzip.open(filepath, 'rb') as lb_dataset:\n",
    "    labels = np.frombuffer(lb_dataset.read(), dtype=np.uint8, offset=8)\n",
    "  return labels"
   ]
  },
  {
   "cell_type": "code",
   "execution_count": 6,
   "id": "fd84a128",
   "metadata": {},
   "outputs": [],
   "source": [
    "class_label = ['T-shirt/top', 'Trouser', 'Pullover', 'Dress', 'Coat', \n",
    "               'Sandal', 'Shirt', 'Sneaker', 'Bag', 'Ankle boot']"
   ]
  },
  {
   "cell_type": "code",
   "execution_count": 7,
   "id": "6800c2a1",
   "metadata": {},
   "outputs": [],
   "source": [
    "def display_image(image_matrix):\n",
    "  \"\"\"\n",
    "    Display the given image \n",
    "    \n",
    "    Parameter(s):\n",
    "      image_matrix : 28x28 pixel values matrix\n",
    "  \"\"\"\n",
    "  plt.figure(figsize=(1,1))\n",
    "  image = np.asarray(image_matrix)\n",
    "  plt.imshow(image, cmap=plt.cm.binary, interpolation='nearest')\n",
    "  plt.axis('off')\n",
    "  plt.show()"
   ]
  },
  {
   "cell_type": "code",
   "execution_count": 8,
   "id": "4e91665f",
   "metadata": {},
   "outputs": [],
   "source": [
    "# Load images\n",
    "train_images = load_image_data(train_images_path)\n",
    "test_images = load_image_data(test_images_path)"
   ]
  },
  {
   "cell_type": "code",
   "execution_count": 9,
   "id": "806b23a6",
   "metadata": {},
   "outputs": [],
   "source": [
    "# Load labels\n",
    "train_labels = load_label_data(train_labels_path)\n",
    "test_labels = load_label_data(test_labels_path)"
   ]
  },
  {
   "cell_type": "code",
   "execution_count": 10,
   "id": "5ebf3959",
   "metadata": {},
   "outputs": [
    {
     "data": {
      "text/plain": [
       "((60000, 28, 28), (10000, 28, 28), (60000,), (10000,))"
      ]
     },
     "execution_count": 10,
     "metadata": {},
     "output_type": "execute_result"
    }
   ],
   "source": [
    "train_images.shape, test_images.shape, train_labels.shape, test_labels.shape"
   ]
  },
  {
   "cell_type": "code",
   "execution_count": 11,
   "id": "e8ac9b4c",
   "metadata": {},
   "outputs": [
    {
     "data": {
      "image/png": "[encoded data removed]",
      "text/plain": [
       "<Figure size 72x72 with 1 Axes>"
      ]
     },
     "metadata": {
      "needs_background": "light"
     },
     "output_type": "display_data"
    },
    {
     "name": "stdout",
     "output_type": "stream",
     "text": [
      "Bag\n",
      "==================================================\n"
     ]
    },
    {
     "data": {
      "image/png": "[encoded data removed]",
      "text/plain": [
       "<Figure size 72x72 with 1 Axes>"
      ]
     },
     "metadata": {
      "needs_background": "light"
     },
     "output_type": "display_data"
    },
    {
     "name": "stdout",
     "output_type": "stream",
     "text": [
      "Trouser\n",
      "==================================================\n"
     ]
    },
    {
     "data": {
      "image/png": "[encoded data removed]",
      "text/plain": [
       "<Figure size 72x72 with 1 Axes>"
      ]
     },
     "metadata": {
      "needs_background": "light"
     },
     "output_type": "display_data"
    },
    {
     "name": "stdout",
     "output_type": "stream",
     "text": [
      "Ankle boot\n",
      "==================================================\n"
     ]
    },
    {
     "data": {
      "image/png": "[encoded data removed]",
      "text/plain": [
       "<Figure size 72x72 with 1 Axes>"
      ]
     },
     "metadata": {
      "needs_background": "light"
     },
     "output_type": "display_data"
    },
    {
     "name": "stdout",
     "output_type": "stream",
     "text": [
      "Dress\n",
      "==================================================\n"
     ]
    },
    {
     "data": {
      "image/png": "[encoded data removed]",
      "text/plain": [
       "<Figure size 72x72 with 1 Axes>"
      ]
     },
     "metadata": {
      "needs_background": "light"
     },
     "output_type": "display_data"
    },
    {
     "name": "stdout",
     "output_type": "stream",
     "text": [
      "Sneaker\n",
      "==================================================\n"
     ]
    },
    {
     "data": {
      "image/png": "[encoded data removed]",
      "text/plain": [
       "<Figure size 72x72 with 1 Axes>"
      ]
     },
     "metadata": {
      "needs_background": "light"
     },
     "output_type": "display_data"
    },
    {
     "name": "stdout",
     "output_type": "stream",
     "text": [
      "Shirt\n",
      "==================================================\n"
     ]
    },
    {
     "data": {
      "image/png": "[encoded data removed]",
      "text/plain": [
       "<Figure size 72x72 with 1 Axes>"
      ]
     },
     "metadata": {
      "needs_background": "light"
     },
     "output_type": "display_data"
    },
    {
     "name": "stdout",
     "output_type": "stream",
     "text": [
      "Pullover\n",
      "==================================================\n"
     ]
    },
    {
     "data": {
      "image/png": "[encoded data removed]",
      "text/plain": [
       "<Figure size 72x72 with 1 Axes>"
      ]
     },
     "metadata": {
      "needs_background": "light"
     },
     "output_type": "display_data"
    },
    {
     "name": "stdout",
     "output_type": "stream",
     "text": [
      "Trouser\n",
      "==================================================\n"
     ]
    },
    {
     "data": {
      "image/png": "[encoded data removed]",
      "text/plain": [
       "<Figure size 72x72 with 1 Axes>"
      ]
     },
     "metadata": {
      "needs_background": "light"
     },
     "output_type": "display_data"
    },
    {
     "name": "stdout",
     "output_type": "stream",
     "text": [
      "Dress\n",
      "==================================================\n"
     ]
    },
    {
     "data": {
      "image/png": "[encoded data removed]",
      "text/plain": [
       "<Figure size 72x72 with 1 Axes>"
      ]
     },
     "metadata": {
      "needs_background": "light"
     },
     "output_type": "display_data"
    },
    {
     "name": "stdout",
     "output_type": "stream",
     "text": [
      "Sneaker\n",
      "==================================================\n"
     ]
    }
   ],
   "source": [
    "# Display some random items\n",
    "for img_id in np.random.choice(len(train_images), 10, replace=False):\n",
    "  display_image(train_images[img_id])\n",
    "  print(class_label[train_labels[img_id]])\n",
    "  print('='*50)"
   ]
  },
  {
   "cell_type": "markdown",
   "id": "3aca1ee1",
   "metadata": {},
   "source": [
    "### EDA"
   ]
  },
  {
   "cell_type": "code",
   "execution_count": 12,
   "id": "a640a66a",
   "metadata": {},
   "outputs": [
    {
     "data": {
      "text/plain": [
       "(array([0, 1, 2, 3, 4, 5, 6, 7, 8, 9], dtype=uint8),\n",
       " array([6000, 6000, 6000, 6000, 6000, 6000, 6000, 6000, 6000, 6000]))"
      ]
     },
     "execution_count": 12,
     "metadata": {},
     "output_type": "execute_result"
    }
   ],
   "source": [
    "np.unique(train_labels, return_counts=True)\n",
    "# Labels are balanced"
   ]
  },
  {
   "cell_type": "code",
   "execution_count": 13,
   "id": "d3aeae7b",
   "metadata": {},
   "outputs": [
    {
     "data": {
      "text/plain": [
       "(255, 0)"
      ]
     },
     "execution_count": 13,
     "metadata": {},
     "output_type": "execute_result"
    }
   ],
   "source": [
    "train_images.max(), train_images.min()\n",
    "# scaling will be required"
   ]
  },
  {
   "cell_type": "markdown",
   "id": "3f2f2b30",
   "metadata": {},
   "source": [
    "### Data pre-processing"
   ]
  },
  {
   "cell_type": "code",
   "execution_count": 29,
   "id": "c1d3fccf",
   "metadata": {},
   "outputs": [],
   "source": [
    "import tensorflow as tf\n",
    "from sklearn.model_selection import train_test_split\n",
    "from tensorflow.keras.utils import to_categorical\n",
    "from tensorflow.keras.models import Sequential\n",
    "from tensorflow.keras.layers import Dense,Flatten,Conv2D,Dropout,MaxPooling2D"
   ]
  },
  {
   "cell_type": "code",
   "execution_count": 30,
   "id": "91b3db2b",
   "metadata": {},
   "outputs": [],
   "source": [
    "def preprocess_data(images_arr, labels_arr):\n",
    "  \"\"\"\n",
    "    Take the images and labels data and return the scaled and reshaped form\n",
    "    \n",
    "    Parameter(s):\n",
    "      images_arr : list of images data of shape (samples,img_h,img_w)\n",
    "      labels_arr : list of labels data of shape (samples,)\n",
    "  \"\"\"\n",
    "  images_arr = images_arr.reshape(-1, IMG_W, IMG_H, 1)\n",
    "  images_arr = images_arr / 255.0\n",
    "  labels_arr = to_categorical(labels_arr, num_classes=len(class_label))\n",
    "  return images_arr, labels_arr"
   ]
  },
  {
   "cell_type": "code",
   "execution_count": 23,
   "id": "1382b58d",
   "metadata": {},
   "outputs": [],
   "source": [
    "train_images, val_images, train_labels, val_labels = train_test_split(train_images, \n",
    "                                                                      train_labels, \n",
    "                                                                      test_size=0.25, \n",
    "                                                                      random_state=123)"
   ]
  },
  {
   "cell_type": "code",
   "execution_count": 26,
   "id": "c2ada7b6",
   "metadata": {},
   "outputs": [],
   "source": [
    "train_images, train_labels = preprocess_data(train_images, train_labels)\n",
    "val_images, val_labels = preprocess_data(val_images, val_labels)\n",
    "test_images, test_labels = preprocess_data(test_images, test_labels)"
   ]
  },
  {
   "cell_type": "markdown",
   "id": "53ab290c",
   "metadata": {},
   "source": [
    "### Model Building"
   ]
  },
  {
   "cell_type": "code",
   "execution_count": 33,
   "id": "81f5698a",
   "metadata": {},
   "outputs": [],
   "source": [
    "def create_cnn_model():\n",
    "  \"\"\"\n",
    "    Defines and returns the CNN model\n",
    "  \"\"\"\n",
    "  cnn_model = Sequential()\n",
    "  cnn_model = Sequential()\n",
    "  cnn_model.add(Conv2D(32, (3, 3), activation='relu', \n",
    "                       kernel_initializer='he_uniform', input_shape=(28, 28, 1)))\n",
    "  cnn_model.add(MaxPooling2D((2, 2)))\n",
    "  cnn_model.add(Flatten())\n",
    "  cnn_model.add(Dense(128, activation='relu', kernel_initializer='he_uniform'))\n",
    "  cnn_model.add(Dense(len(class_label), activation='softmax'))\n",
    "  \n",
    "  cnn_model.compile(loss='categorical_crossentropy', optimizer='adam', metrics=['accuracy'])\n",
    "  \n",
    "  return cnn_model"
   ]
  },
  {
   "cell_type": "code",
   "execution_count": 34,
   "id": "1b6fd042",
   "metadata": {},
   "outputs": [],
   "source": [
    "cnn_model = create_cnn_model()"
   ]
  },
  {
   "cell_type": "code",
   "execution_count": 38,
   "id": "6c3527d1",
   "metadata": {},
   "outputs": [
    {
     "name": "stdout",
     "output_type": "stream",
     "text": [
      "Epoch 1/10\n",
      "352/352 - 18s - loss: 0.2681 - accuracy: 0.9039 - val_loss: 0.2858 - val_accuracy: 0.9000\n",
      "Epoch 2/10\n",
      "352/352 - 21s - loss: 0.2331 - accuracy: 0.9159 - val_loss: 0.2631 - val_accuracy: 0.9069\n",
      "Epoch 3/10\n",
      "352/352 - 21s - loss: 0.2022 - accuracy: 0.9256 - val_loss: 0.2774 - val_accuracy: 0.9009\n",
      "Epoch 4/10\n",
      "352/352 - 18s - loss: 0.1827 - accuracy: 0.9341 - val_loss: 0.2614 - val_accuracy: 0.9085\n",
      "Epoch 5/10\n",
      "352/352 - 23s - loss: 0.1600 - accuracy: 0.9413 - val_loss: 0.2565 - val_accuracy: 0.9109\n",
      "Epoch 6/10\n",
      "352/352 - 23s - loss: 0.1445 - accuracy: 0.9481 - val_loss: 0.2572 - val_accuracy: 0.9117\n",
      "Epoch 7/10\n",
      "352/352 - 22s - loss: 0.1282 - accuracy: 0.9529 - val_loss: 0.2637 - val_accuracy: 0.9121\n",
      "Epoch 8/10\n",
      "352/352 - 14s - loss: 0.1138 - accuracy: 0.9593 - val_loss: 0.2675 - val_accuracy: 0.9099\n",
      "Epoch 9/10\n",
      "352/352 - 22s - loss: 0.1005 - accuracy: 0.9636 - val_loss: 0.2671 - val_accuracy: 0.9151\n",
      "Epoch 10/10\n",
      "352/352 - 27s - loss: 0.0921 - accuracy: 0.9667 - val_loss: 0.2818 - val_accuracy: 0.9125\n"
     ]
    },
    {
     "data": {
      "text/plain": [
       "<tensorflow.python.keras.callbacks.History at 0x7f3c8b775700>"
      ]
     },
     "execution_count": 38,
     "metadata": {},
     "output_type": "execute_result"
    }
   ],
   "source": [
    "cnn_model.fit(train_images, train_labels, batch_size=128, epochs=10, verbose=2,\n",
    "                  validation_data=(val_images, val_labels))"
   ]
  },
  {
   "cell_type": "code",
   "execution_count": 41,
   "id": "b4a32a5c",
   "metadata": {},
   "outputs": [],
   "source": [
    "score = cnn_model.evaluate(test_images, test_labels, verbose=0)"
   ]
  },
  {
   "cell_type": "code",
   "execution_count": 42,
   "id": "0a9216b6",
   "metadata": {},
   "outputs": [
    {
     "data": {
      "text/plain": [
       "[0.29096317291259766, 0.909600019454956]"
      ]
     },
     "execution_count": 42,
     "metadata": {},
     "output_type": "execute_result"
    }
   ],
   "source": [
    "score"
   ]
  },
  {
   "cell_type": "code",
   "execution_count": null,
   "id": "49695917",
   "metadata": {},
   "outputs": [],
   "source": []
  }
 ],
 "metadata": {
  "kernelspec": {
   "display_name": "Python 3",
   "language": "python",
   "name": "python3"
  },
  "language_info": {
   "codemirror_mode": {
    "name": "ipython",
    "version": 3
   },
   "file_extension": ".py",
   "mimetype": "text/x-python",
   "name": "python",
   "nbconvert_exporter": "python",
   "pygments_lexer": "ipython3",
   "version": "3.8.10"
  }
 },
 "nbformat": 4,
 "nbformat_minor": 5
}
