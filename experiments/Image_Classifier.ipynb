{
 "cells": [
  {
   "cell_type": "code",
   "execution_count": 1,
   "id": "858aa1f0",
   "metadata": {},
   "outputs": [],
   "source": [
    "import time\n",
    "import gzip, os\n",
    "import numpy as np\n",
    "import pandas as pd\n",
    "import tensorflow as tf\n",
    "import seaborn as sns\n",
    "import matplotlib.pyplot as plt\n",
    "from sklearn.model_selection import train_test_split\n",
    "from tensorflow.keras.utils import to_categorical\n",
    "from tensorflow.keras.models import Sequential\n",
    "from tensorflow.keras.layers import Dense,Flatten,Conv2D,Dropout,MaxPooling2D\n",
    "from sklearn.metrics import classification_report, confusion_matrix\n",
    "from PIL import Image, ImageFilter"
   ]
  },
  {
   "cell_type": "code",
   "execution_count": 2,
   "id": "5a38f8a6",
   "metadata": {},
   "outputs": [],
   "source": [
    "def save_run_history(history, save_path='./results/run_history.png'):\n",
    "  \"\"\"\n",
    "    This helps to save the model training history results\n",
    "\n",
    "    Parameter(s):\n",
    "      history : history object\n",
    "      save_path : where to save the reports\n",
    "  \"\"\"\n",
    "  plt.figure(figsize=(14,8))\n",
    "  plt.subplot(1, 2, 1)\n",
    "  plt.suptitle('Training Results', fontsize=15)\n",
    "  plt.ylabel('Loss', fontsize=12)\n",
    "  plt.xlabel(\"#Epochs\")\n",
    "  plt.plot(history.history['loss'], color='blue', label='Training Loss')\n",
    "  plt.plot(history.history['val_loss'], color='red', label='Validation Loss')\n",
    "  plt.legend(loc='upper right')\n",
    "\n",
    "  plt.subplot(1, 2, 2)\n",
    "  plt.ylabel('Accuracy', fontsize=12)\n",
    "  plt.xlabel(\"#Epochs\")\n",
    "  plt.plot(history.history['accuracy'], color='green', label='Training Accuracy')\n",
    "  plt.plot(history.history['val_accuracy'], color='orange', label='Validation Accuracy')\n",
    "  plt.legend(loc='lower right')\n",
    "  plt.savefig(save_path, facecolor='white')\n",
    "  plt.close()\n",
    "  print(\"Training history plots saved in results.\")\n",
    "  \n",
    "  \n",
    "def save_confusion_matrix(y_true, y_pred, class_labels, save_path='./results/confusion_matrix.png'):\n",
    "  \"\"\"\n",
    "    This helps to save the confusion matrix for the trained model\n",
    "  \n",
    "    Parameter(s):\n",
    "      y_true : true classes\n",
    "      y_pred : predicted classes\n",
    "      class_labels : class labels list, where index is the class\n",
    "      save_path : where to save the reports\n",
    "  \"\"\"\n",
    "  plt.figure(figsize=(14, 8))\n",
    "  conf_matrix = np.round(confusion_matrix(y_true, y_pred, normalize='true'), 1)\n",
    "  df_cm = pd.DataFrame(conf_matrix, index=class_labels, columns=class_labels)\n",
    "  hMap = sns.heatmap(df_cm, annot=True)\n",
    "  plt.xlabel('Predicted Label')\n",
    "  plt.ylabel('Actual Label')\n",
    "  plt.savefig(save_path, facecolor='white')\n",
    "  plt.close()\n",
    "  print(\"Confusion Matrix saved in results.\")\n",
    "  \n",
    "  \n",
    "def save_classification_report(y_true, y_pred, class_labels, save_path='./results/classification_report.txt'):\n",
    "  \"\"\"\n",
    "    This helps to save the classification report for the trained model\n",
    "\n",
    "    Parameter(s):\n",
    "      y_true : true classes\n",
    "      y_pred : predicted classes\n",
    "      class_labels : class labels list, where index is the class\n",
    "      save_path : where to save the reports\n",
    "  \"\"\"\n",
    "  with open(save_path,'w') as cr:\n",
    "    cr.write(classification_report(y_true, y_pred, target_names=class_labels))\n",
    "  print(\"Classification report saved in results.\")\n",
    "\n",
    "\n",
    "def process_image(img_path, img_dims=(28,28)):\n",
    "  \"\"\"\n",
    "    This function reads any image and processes it into a pixel values after converting \n",
    "    it into a grayscale version .\n",
    "\n",
    "    Parameter(s):\n",
    "      img_path : path of image file\n",
    "      img_dims : dimensions pf image (width x height)\n",
    "  \"\"\"\n",
    "  image = Image.open(img_path).convert('L')\n",
    "  img_w, img_h = map(float, image.size)\n",
    "  # creates white canvas of 28x28 pixels, or any other specified value\n",
    "  new_image = Image.new('L', img_dims, (255))\n",
    "\n",
    "  if img_w > img_h:\n",
    "      # width is greater so it is fixed to 20 pixels and the height is adjusted acccordingly.\n",
    "      new_w, new_h = 20, max(1, int(round((20.0 / img_w*img_h), 0)))\n",
    "      # calculate horizontal and vertical positions\n",
    "      wleft, wtop = 4, int(round(((img_dims[1] - new_h) / 2), 0))\n",
    "  else:\n",
    "      # height is greater/equal so it is fixed to 20 pixels and the width is adjusted acccordingly.\n",
    "      new_w, new_h = max(1, int(round((20.0 / img_w*img_h), 0))), 20\n",
    "      # calculate horizontal and vertical positions\n",
    "      wleft, wtop = int(round(((img_dims[0] - new_w) / 2), 0)), 4\n",
    "\n",
    "  img = image.resize((new_w, new_h), Image.ANTIALIAS).filter(ImageFilter.SHARPEN)\n",
    "  # resized image is pasted after centering it on the newly created white canvas\n",
    "  new_image.paste(img, (wleft, wtop))\n",
    "\n",
    "  # get pixel values\n",
    "  new_image_arr = list(new_image.getdata())\n",
    "  return new_image_arr\n",
    "\n",
    "\n",
    "def load_image_data(filepath):\n",
    "  \"\"\"\n",
    "    Load the idx image data from given path\n",
    "\n",
    "    Parameter(s):\n",
    "      filepath : path to the image dataset file\n",
    "  \"\"\"\n",
    "  with gzip.open(filepath, 'rb') as img_dataset:\n",
    "    images = np.frombuffer(img_dataset.read(), dtype=np.uint8, offset=16)\n",
    "  return images\n",
    "\n",
    "\n",
    "def load_label_data(filepath):\n",
    "  \"\"\"\n",
    "    Load the idx label data from given path\n",
    "\n",
    "    Parameter(s):\n",
    "      filepath : path to the label dataset file\n",
    "  \"\"\"\n",
    "  with gzip.open(filepath, 'rb') as lb_dataset:\n",
    "    labels = np.frombuffer(lb_dataset.read(), dtype=np.uint8, offset=8)\n",
    "  return labels\n"
   ]
  },
  {
   "cell_type": "code",
   "execution_count": 3,
   "id": "f217189b",
   "metadata": {},
   "outputs": [],
   "source": [
    "class MyCallback(tf.keras.callbacks.Callback):\n",
    "  def __init__(self, epochs):\n",
    "    super().__init__()\n",
    "    self.epochs = epochs\n",
    "    \n",
    "  def on_epoch_begin(self, epoch, logs=None):\n",
    "    if epoch == 0:\n",
    "      self.start_time = time.time()\n",
    "      print(\"Epoch 1 in progress..\", end='\\r')\n",
    "    else:\n",
    "      time_elapsed = time.time() - self.start_time\n",
    "      eta = (time_elapsed/epoch) * (self.epochs-epoch)/60.0\n",
    "      print(\"Training ETA : %.1f min(s)\" %eta, end='\\r')\n",
    "  \n",
    "  def on_train_end(self, logs=None):\n",
    "    print(\"Training Completed..               \")"
   ]
  },
  {
   "cell_type": "code",
   "execution_count": 4,
   "id": "0d85bd97",
   "metadata": {},
   "outputs": [],
   "source": [
    "class ImageClassifier(object):\n",
    "  \"\"\"\n",
    "    Class carrying all the functionalities for CNN based image classification \n",
    "    and prediction\n",
    "  \"\"\"\n",
    "  def __init__(self, img_dim=(28, 28)):\n",
    "    \"\"\"\n",
    "      Parameter(s):\n",
    "        img_dim : (width, height)\n",
    "    \"\"\"\n",
    "    assert len(img_dim)==2, \"Image dimensions should be in form (width, height)\"\n",
    "    self.IMG_W, self.IMG_H = img_dim\n",
    "    self._cnn_model = None\n",
    "  \n",
    "  \n",
    "  def _preprocess_data(self, images_arr, labels_arr=None):\n",
    "    \"\"\"\n",
    "      Take the images and labels data and return the scaled and reshaped form\n",
    "\n",
    "      Parameter(s):\n",
    "        images_arr : list of images data of shape (samples,img_h,img_w)\n",
    "        labels_arr : list of labels data of shape (samples,)\n",
    "    \"\"\"\n",
    "    images_arr = images_arr.reshape(-1, self.IMG_H, self.IMG_W, 1)\n",
    "    images_arr = (255.0 - images_arr) / 255.0\n",
    "    # images_arr = images_arr / 255.0\n",
    "    if labels_arr is not None:\n",
    "      labels_arr = to_categorical(labels_arr, num_classes=len(set(labels_arr)))\n",
    "    return images_arr, labels_arr\n",
    "  \n",
    "  \n",
    "  def load_from_raw_data(self, train_images_path, train_labels_path, test_images_path, test_labels_path,\n",
    "                     class_labels = ['T-shirt/top', 'Trouser', 'Pullover', 'Dress', 'Coat', 'Sandal', \n",
    "                                    'Shirt', 'Sneaker', 'Bag', 'Ankle boot']):\n",
    "    \"\"\"\n",
    "      Load image and labels data in pixel value format. Returns the train, validation and \n",
    "      test set, after preprocessing.\n",
    "      \n",
    "      Parameter(s):\n",
    "        train_images_path, train_labels_path, test_images_path, test_labels_path\n",
    "        class_labels : labels for each class values\n",
    "    \"\"\"\n",
    "    assert os.path.isfile(train_images_path), \"Images training data missing\"\n",
    "    assert os.path.isfile(train_labels_path), \"Labels training data missing\"\n",
    "    assert os.path.isfile(test_images_path), \"Images test data missing\"\n",
    "    assert os.path.isfile(test_labels_path), \"Labels test data missing\"\n",
    "    \n",
    "    # Load images\n",
    "    train_images = load_image_data(train_images_path).reshape(-1, self.IMG_H, self.IMG_W)\n",
    "    test_images = load_image_data(test_images_path).reshape(-1, self.IMG_H, self.IMG_W)\n",
    "    \n",
    "    # Load labels\n",
    "    train_labels = load_label_data(train_labels_path)\n",
    "    test_labels = load_label_data(test_labels_path)\n",
    "    \n",
    "    # Split training data for training and validation\n",
    "    train_images, val_images, train_labels, val_labels = train_test_split(train_images, \n",
    "                                          train_labels, test_size=0.25, random_state=123)\n",
    "    \n",
    "    # Preprocess the image data by scaling and categorizing\n",
    "    self._train_images, self._train_labels = self._preprocess_data(train_images, train_labels)\n",
    "    self._val_images, self._val_labels = self._preprocess_data(val_images, val_labels)\n",
    "    self._test_images, self._test_labels = self._preprocess_data(test_images, test_labels)\n",
    "    self._class_labels = class_labels\n",
    "    print(\"Data loaded successfully.\")\n",
    "  \n",
    "  \n",
    "  def load_from_image_files(self, data_dir):\n",
    "    \"\"\"\n",
    "      Load image and labels data from raw images, where each class of images are kept in\n",
    "      their respective directories, having directory name as class names. \n",
    "      Returns the train, validation and test set, after preprocessing.\n",
    "      \n",
    "      Parameter(s):\n",
    "        data_dir : folder of images data\n",
    "    \"\"\"\n",
    "    assert os.path.isdir(data_dir), \"Image directory is not valid\"\n",
    "    \n",
    "    images_arr, labels_arr, class_labels = list(), list(), list()\n",
    "    for fi,folder in enumerate(os.listdir(data_dir)):\n",
    "      success, total = 0, 0\n",
    "      class_labels.append(folder.title())\n",
    "      for file in os.listdir(os.path.join(data_dir, folder)):\n",
    "        try:\n",
    "          img_arr = process_image(os.path.join(data_dir,folder,file))\n",
    "          images_arr.append(img_arr)\n",
    "          labels_arr.append(fi)\n",
    "          success += 1\n",
    "        except:\n",
    "          print(\"Error in processing file: %s\" %(os.path.join(data_dir,folder,file)))\n",
    "        finally:\n",
    "          total += 1\n",
    "      print(\"%d out of %d images processed for label - %s\" %(success, total, folder.title()))\n",
    "    self._class_labels = class_labels\n",
    "    \n",
    "    images_arr, labels_arr = np.array(images_arr), np.array(labels_arr)\n",
    "    # Split training data for training, validation and testing\n",
    "    train_images, val_images, train_labels, val_labels = train_test_split(images_arr, \n",
    "                                  labels_arr, test_size=0.30, stratify=labels_arr, random_state=123)\n",
    "    val_images, test_images, val_labels, test_labels = train_test_split(val_images, \n",
    "                                  val_labels, test_size=0.30, stratify=val_labels, random_state=123)\n",
    "    \n",
    "    # Re-shape\n",
    "    train_images = train_images.reshape(-1, self.IMG_H, self.IMG_W)\n",
    "    val_images = val_images.reshape(-1, self.IMG_H, self.IMG_W)\n",
    "    test_images = test_images.reshape(-1, self.IMG_H, self.IMG_W)\n",
    "    \n",
    "    # Preprocess the image data by scaling and categorizing\n",
    "    self._train_images, self._train_labels = self._preprocess_data(train_images, train_labels)\n",
    "    self._val_images, self._val_labels = self._preprocess_data(val_images, val_labels)\n",
    "    self._test_images, self._test_labels = self._preprocess_data(test_images, test_labels)\n",
    "    print(\"Data loaded successfully.\")\n",
    "  \n",
    "    \n",
    "  def _create_cnn_model(self):\n",
    "    \"\"\"\n",
    "      Defines and returns the CNN model\n",
    "    \"\"\"\n",
    "    cnn_model = Sequential()\n",
    "    cnn_model.add(Conv2D(64, kernel_size=(3, 3), activation='relu', kernel_initializer='he_uniform', \n",
    "                                                 input_shape=(self.IMG_W, self.IMG_H, 1)))\n",
    "    cnn_model.add(MaxPooling2D((2, 2)))\n",
    "    cnn_model.add(Dropout(0.25))\n",
    "    cnn_model.add(Flatten())\n",
    "    cnn_model.add(Dense(128, activation='relu', kernel_initializer='he_uniform'))\n",
    "    cnn_model.add(Dense(len(self._class_labels), activation='softmax'))\n",
    "    \n",
    "    cnn_model.compile(optimizer='adam',\n",
    "                      loss='categorical_crossentropy',\n",
    "                      metrics=['accuracy'])\n",
    "    return cnn_model\n",
    "  \n",
    "  \n",
    "  def train(self, save_dir='./model'):\n",
    "    \"\"\"\n",
    "      Train the CNN model\n",
    "      \n",
    "      Parameter(s):\n",
    "        save_dir : directory where you want the model to be saved after training. \n",
    "                    Pass None if you want to train just for checking\n",
    "    \n",
    "    \"\"\"\n",
    "    assert self._class_labels is not None, \"Class labels not defined\"\n",
    "    \n",
    "    self._cnn_model = self._create_cnn_model()\n",
    "    print(\"Training initiated..\")\n",
    "    history = self._cnn_model.fit(self._train_images, self._train_labels, batch_size=256, \n",
    "                                 epochs=10, verbose=0, callbacks=[MyCallback(10)],\n",
    "                                 validation_data=(self._val_images, self._val_labels))\n",
    "    \n",
    "    # Print and save history if specified\n",
    "    print(\"Training Loss : %.3f\" % history.history['loss'][-1])\n",
    "    print(\"Validation Loss : %.3f\" % history.history['val_loss'][-1])\n",
    "    print(\"Training Accuracy : %.3f\" % history.history['accuracy'][-1])\n",
    "    print(\"Validation Accuracy : %.3f\" % history.history['val_accuracy'][-1])\n",
    "    \n",
    "    if save_dir is not None:\n",
    "      save_run_history(history)\n",
    "      self._cnn_model.save(save_dir)\n",
    "    \n",
    "    score = self._cnn_model.evaluate(self._test_images, self._test_labels, verbose=0)\n",
    "    print(\"Test Loss : %.3f\" % score[0])\n",
    "    print(\"Test Accuracy : %.3f\" % score[1])\n",
    "    \n",
    "    if save_dir is not None:\n",
    "      y_true = self._test_labels.argmax(axis=1)\n",
    "      y_pred = np.argmax(self._cnn_model.predict(self._test_images), axis=-1)\n",
    "      save_confusion_matrix(y_true, y_pred, self._class_labels)\n",
    "      save_classification_report(y_true, y_pred, self._class_labels)\n",
    "  \n",
    "  \n",
    "  def predict_from_raw_data(self, images_path):\n",
    "    \"\"\"\n",
    "      Load image data given in pixel value format from the file and return the predicted labels.\n",
    "      \n",
    "      Parameter(s):\n",
    "        images_path\n",
    "    \"\"\"\n",
    "    assert os.path.isfile(images_path), \"Images data file missing\"\n",
    "    assert self._cnn_model is not None, \"Model training has not been done\"\n",
    "    \n",
    "    # Load images\n",
    "    images_data = load_image_data(images_path).reshape(-1, self.IMG_H, self.IMG_W)\n",
    "    images_data,_ = self._preprocess_data(images_data)\n",
    "    classes = np.argmax(self._cnn_model.predict(images_data), axis=-1)\n",
    "    labels = list(map(lambda i:self._class_labels[i], classes))\n",
    "    return labels\n",
    "  \n",
    "  \n",
    "  def predict_from_image_files(self, data_dir):\n",
    "    \"\"\"\n",
    "      Load image data from the image files and return the predicted labels.\n",
    "      \n",
    "      Parameter(s):\n",
    "        data_dir : location of images\n",
    "    \"\"\"\n",
    "    assert os.path.isdir(data_dir), \"Image directory is not valid\"\n",
    "    assert self._cnn_model is not None, \"Model training has not been done\"\n",
    "    \n",
    "    error_index, images_arr = dict(), list()\n",
    "    for fi,file in enumerate(os.listdir(data_dir)):\n",
    "      try:\n",
    "        img_arr = process_image(os.path.join(data_dir,file))\n",
    "        images_arr.append(img_arr)\n",
    "      except Exception as ex:\n",
    "        print(\"Error in processing file: %s : %s\" %(os.path.join(data_dir,file), str(ex)))\n",
    "        error_index[fi] = True\n",
    "    \n",
    "    images_arr = np.array(images_arr).reshape(-1, self.IMG_H, self.IMG_W)\n",
    "    images_arr,_ = self._preprocess_data(images_arr)\n",
    "    classes = np.argmax(self._cnn_model.predict(images_arr), axis=-1).tolist()\n",
    "    \n",
    "    # prepare labels from classes\n",
    "    labels = list()\n",
    "    for ci in range(len(classes)+len(error_index)):\n",
    "      if error_index.get(ci) is not None:\n",
    "        labels.append('Unknown')\n",
    "      else:\n",
    "        labels.append(self._class_labels[classes.pop(0)])\n",
    "    return labels\n",
    "  \n",
    "  \n",
    "  def load_trained_model(self, model_dir='./model/', class_labels = ['T-shirt/top', 'Trouser', \n",
    "                                                     'Pullover', 'Dress', 'Coat', 'Sandal', \n",
    "                                                   'Shirt', 'Sneaker', 'Bag', 'Ankle boot']):\n",
    "    \"\"\"\n",
    "      Load image data from the image files and return the predicted labels.\n",
    "      \n",
    "      Parameter(s):\n",
    "        model_dir : directory of saved model\n",
    "        class_labels : labels of class values\n",
    "    \"\"\"\n",
    "    try:\n",
    "      self._cnn_model = tf.keras.models.load_model(model_dir)\n",
    "      self._class_labels = class_labels\n",
    "    except:\n",
    "      print(\"Model could not be loaded.\")    "
   ]
  },
  {
   "cell_type": "code",
   "execution_count": 5,
   "id": "51e8e353",
   "metadata": {},
   "outputs": [],
   "source": [
    "img_clf = ImageClassifier()"
   ]
  },
  {
   "cell_type": "code",
   "execution_count": 6,
   "id": "1458d65d",
   "metadata": {},
   "outputs": [],
   "source": [
    "img_clf.load_trained_model()"
   ]
  },
  {
   "cell_type": "code",
   "execution_count": 9,
   "id": "b2cf270f",
   "metadata": {},
   "outputs": [
    {
     "name": "stdout",
     "output_type": "stream",
     "text": [
      "Data loaded successfully.\n"
     ]
    }
   ],
   "source": [
    "# img_clf.load_from_raw_data(train_images_path, train_labels_path, test_images_path, test_labels_path)"
   ]
  },
  {
   "cell_type": "code",
   "execution_count": 10,
   "id": "1e6a3621",
   "metadata": {},
   "outputs": [],
   "source": [
    "# img_clf.load_from_image_files('../data/test/')"
   ]
  },
  {
   "cell_type": "code",
   "execution_count": 11,
   "id": "7b1a7848",
   "metadata": {},
   "outputs": [
    {
     "name": "stdout",
     "output_type": "stream",
     "text": [
      "Training initiated..\n",
      "Training Completed..               \n",
      "Training Loss : 0.123\n",
      "Validation Loss : 0.253\n",
      "Training Accuracy : 0.955\n",
      "Validation Accuracy : 0.914\n",
      "Training history plots saved in results.\n",
      "INFO:tensorflow:Assets written to: ./model/assets\n",
      "Test Loss : 0.256\n",
      "Test Accuracy : 0.916\n",
      "Confusion Matrix saved in results.\n",
      "Classification report saved in results.\n"
     ]
    }
   ],
   "source": [
    "img_clf.train()"
   ]
  },
  {
   "cell_type": "code",
   "execution_count": 8,
   "id": "5cd002b6",
   "metadata": {},
   "outputs": [
    {
     "data": {
      "text/plain": [
       "['Trouser',\n",
       " 'Trouser',\n",
       " 'Trouser',\n",
       " 'Trouser',\n",
       " 'Trouser',\n",
       " 'Trouser',\n",
       " 'Trouser',\n",
       " 'Trouser',\n",
       " 'Trouser',\n",
       " 'Trouser']"
      ]
     },
     "execution_count": 8,
     "metadata": {},
     "output_type": "execute_result"
    }
   ],
   "source": [
    "img_clf.predict_from_image_files('../data/test/trousers/')"
   ]
  },
  {
   "cell_type": "code",
   "execution_count": 8,
   "id": "70b48fef",
   "metadata": {},
   "outputs": [],
   "source": [
    "train_images_path = '../data/fashion/train-images-idx3-ubyte.gz'\n",
    "train_labels_path = '../data/fashion/train-labels-idx1-ubyte.gz'\n",
    "test_images_path = '../data/fashion/t10k-images-idx3-ubyte.gz'\n",
    "test_labels_path = '../data/fashion/t10k-labels-idx1-ubyte.gz'"
   ]
  },
  {
   "cell_type": "code",
   "execution_count": 3,
   "id": "f24c1866",
   "metadata": {},
   "outputs": [],
   "source": [
    "IMG_H, IMG_W = 28, 28"
   ]
  },
  {
   "cell_type": "markdown",
   "id": "f1b7d729",
   "metadata": {},
   "source": [
    "### Data Loading and Visualization"
   ]
  },
  {
   "cell_type": "code",
   "execution_count": 4,
   "id": "ef55378c",
   "metadata": {},
   "outputs": [],
   "source": [
    "def load_image_data(filepath):\n",
    "  \"\"\"\n",
    "    Load the idx image data from given path\n",
    "    \n",
    "    Parameter(s):\n",
    "      filepath : path to the image dataset file\n",
    "  \"\"\"\n",
    "  with gzip.open(filepath, 'rb') as img_dataset:\n",
    "    images = np.frombuffer(img_dataset.read(), dtype=np.uint8, offset=16)\n",
    "  return images"
   ]
  },
  {
   "cell_type": "code",
   "execution_count": 5,
   "id": "141865e1",
   "metadata": {},
   "outputs": [],
   "source": [
    "def load_label_data(filepath):\n",
    "  \"\"\"\n",
    "    Load the idx label data from given path\n",
    "    \n",
    "    Parameter(s):\n",
    "      filepath : path to the label dataset file\n",
    "  \"\"\"\n",
    "  with gzip.open(filepath, 'rb') as lb_dataset:\n",
    "    labels = np.frombuffer(lb_dataset.read(), dtype=np.uint8, offset=8)\n",
    "  return labels"
   ]
  },
  {
   "cell_type": "code",
   "execution_count": 6,
   "id": "a73dba45",
   "metadata": {},
   "outputs": [],
   "source": [
    "class_labels = ['T-shirt/top', 'Trouser', 'Pullover', 'Dress', 'Coat', \n",
    "               'Sandal', 'Shirt', 'Sneaker', 'Bag', 'Ankle boot']"
   ]
  },
  {
   "cell_type": "code",
   "execution_count": 7,
   "id": "425a1009",
   "metadata": {},
   "outputs": [],
   "source": [
    "def display_image(image_matrix):\n",
    "  \"\"\"\n",
    "    Display the given image \n",
    "    \n",
    "    Parameter(s):\n",
    "      image_matrix : 28x28 pixel values matrix\n",
    "  \"\"\"\n",
    "  plt.figure(figsize=(1,1))\n",
    "  image = np.asarray(image_matrix)\n",
    "  plt.imshow(image, cmap=plt.cm.binary, interpolation='nearest')\n",
    "  plt.axis('off')\n",
    "  plt.show()"
   ]
  },
  {
   "cell_type": "code",
   "execution_count": 8,
   "id": "51878876",
   "metadata": {},
   "outputs": [],
   "source": [
    "# Load images\n",
    "train_images = load_image_data(train_images_path).reshape(-1, IMG_H, IMG_W)\n",
    "test_images = load_image_data(test_images_path).reshape(-1, IMG_H, IMG_W)"
   ]
  },
  {
   "cell_type": "code",
   "execution_count": 9,
   "id": "a082dbe2",
   "metadata": {},
   "outputs": [],
   "source": [
    "# Load labels\n",
    "train_labels = load_label_data(train_labels_path)\n",
    "test_labels = load_label_data(test_labels_path)"
   ]
  },
  {
   "cell_type": "code",
   "execution_count": 10,
   "id": "21ea9cea",
   "metadata": {},
   "outputs": [
    {
     "data": {
      "text/plain": [
       "((60000, 28, 28), (10000, 28, 28), (60000,), (10000,))"
      ]
     },
     "execution_count": 10,
     "metadata": {},
     "output_type": "execute_result"
    }
   ],
   "source": [
    "train_images.shape, test_images.shape, train_labels.shape, test_labels.shape"
   ]
  },
  {
   "cell_type": "code",
   "execution_count": 11,
   "id": "00ee87b7",
   "metadata": {},
   "outputs": [
    {
     "data": {
      "image/png": "[encoded data removed]",
      "text/plain": [
       "<Figure size 72x72 with 1 Axes>"
      ]
     },
     "metadata": {
      "needs_background": "light"
     },
     "output_type": "display_data"
    },
    {
     "name": "stdout",
     "output_type": "stream",
     "text": [
      "Coat\n",
      "==================================================\n"
     ]
    },
    {
     "data": {
      "image/png": "[encoded data removed]",
      "text/plain": [
       "<Figure size 72x72 with 1 Axes>"
      ]
     },
     "metadata": {
      "needs_background": "light"
     },
     "output_type": "display_data"
    },
    {
     "name": "stdout",
     "output_type": "stream",
     "text": [
      "Sandal\n",
      "==================================================\n"
     ]
    },
    {
     "data": {
      "image/png": "[encoded data removed]",
      "text/plain": [
       "<Figure size 72x72 with 1 Axes>"
      ]
     },
     "metadata": {
      "needs_background": "light"
     },
     "output_type": "display_data"
    },
    {
     "name": "stdout",
     "output_type": "stream",
     "text": [
      "Sneaker\n",
      "==================================================\n"
     ]
    },
    {
     "data": {
      "image/png": "[encoded data removed]",
      "text/plain": [
       "<Figure size 72x72 with 1 Axes>"
      ]
     },
     "metadata": {
      "needs_background": "light"
     },
     "output_type": "display_data"
    },
    {
     "name": "stdout",
     "output_type": "stream",
     "text": [
      "Bag\n",
      "==================================================\n"
     ]
    },
    {
     "data": {
      "image/png": "[encoded data removed]",
      "text/plain": [
       "<Figure size 72x72 with 1 Axes>"
      ]
     },
     "metadata": {
      "needs_background": "light"
     },
     "output_type": "display_data"
    },
    {
     "name": "stdout",
     "output_type": "stream",
     "text": [
      "Dress\n",
      "==================================================\n"
     ]
    },
    {
     "data": {
      "image/png": "[encoded data removed]",
      "text/plain": [
       "<Figure size 72x72 with 1 Axes>"
      ]
     },
     "metadata": {
      "needs_background": "light"
     },
     "output_type": "display_data"
    },
    {
     "name": "stdout",
     "output_type": "stream",
     "text": [
      "Trouser\n",
      "==================================================\n"
     ]
    },
    {
     "data": {
      "image/png": "[encoded data removed]",
      "text/plain": [
       "<Figure size 72x72 with 1 Axes>"
      ]
     },
     "metadata": {
      "needs_background": "light"
     },
     "output_type": "display_data"
    },
    {
     "name": "stdout",
     "output_type": "stream",
     "text": [
      "Bag\n",
      "==================================================\n"
     ]
    },
    {
     "data": {
      "image/png": "[encoded data removed]",
      "text/plain": [
       "<Figure size 72x72 with 1 Axes>"
      ]
     },
     "metadata": {
      "needs_background": "light"
     },
     "output_type": "display_data"
    },
    {
     "name": "stdout",
     "output_type": "stream",
     "text": [
      "Coat\n",
      "==================================================\n"
     ]
    },
    {
     "data": {
      "image/png": "[encoded data removed]",
      "text/plain": [
       "<Figure size 72x72 with 1 Axes>"
      ]
     },
     "metadata": {
      "needs_background": "light"
     },
     "output_type": "display_data"
    },
    {
     "name": "stdout",
     "output_type": "stream",
     "text": [
      "Bag\n",
      "==================================================\n"
     ]
    },
    {
     "data": {
      "image/png": "[encoded data removed]",
      "text/plain": [
       "<Figure size 72x72 with 1 Axes>"
      ]
     },
     "metadata": {
      "needs_background": "light"
     },
     "output_type": "display_data"
    },
    {
     "name": "stdout",
     "output_type": "stream",
     "text": [
      "Trouser\n",
      "==================================================\n"
     ]
    }
   ],
   "source": [
    "# Display some random items\n",
    "for img_id in np.random.choice(len(train_images), 10, replace=False):\n",
    "  display_image(train_images[img_id])\n",
    "  print(class_labels[train_labels[img_id]])\n",
    "  print('='*50)"
   ]
  },
  {
   "cell_type": "markdown",
   "id": "43d89aa5",
   "metadata": {},
   "source": [
    "### EDA"
   ]
  },
  {
   "cell_type": "code",
   "execution_count": 12,
   "id": "0eef2e66",
   "metadata": {},
   "outputs": [
    {
     "data": {
      "text/plain": [
       "(array([0, 1, 2, 3, 4, 5, 6, 7, 8, 9], dtype=uint8),\n",
       " array([6000, 6000, 6000, 6000, 6000, 6000, 6000, 6000, 6000, 6000]))"
      ]
     },
     "execution_count": 12,
     "metadata": {},
     "output_type": "execute_result"
    }
   ],
   "source": [
    "np.unique(train_labels, return_counts=True)\n",
    "# Labels are balanced"
   ]
  },
  {
   "cell_type": "code",
   "execution_count": 13,
   "id": "bf675134",
   "metadata": {},
   "outputs": [
    {
     "data": {
      "text/plain": [
       "(255, 0)"
      ]
     },
     "execution_count": 13,
     "metadata": {},
     "output_type": "execute_result"
    }
   ],
   "source": [
    "train_images.max(), train_images.min()\n",
    "# scaling will be required"
   ]
  },
  {
   "cell_type": "markdown",
   "id": "07b74daa",
   "metadata": {},
   "source": [
    "### Data pre-processing"
   ]
  },
  {
   "cell_type": "code",
   "execution_count": 14,
   "id": "d7616789",
   "metadata": {},
   "outputs": [],
   "source": [
    "def preprocess_data(images_arr, labels_arr):\n",
    "  \"\"\"\n",
    "    Take the images and labels data and return the scaled and reshaped form\n",
    "    \n",
    "    Parameter(s):\n",
    "      images_arr : list of images data of shape (samples,img_h,img_w)\n",
    "      labels_arr : list of labels data of shape (samples,)\n",
    "  \"\"\"\n",
    "  images_arr = images_arr.reshape(-1, IMG_H, IMG_W, 1)\n",
    "  # images_arr = (255.0 - images_arr) / 255.0\n",
    "  images_arr = images_arr/255.0\n",
    "  labels_arr = to_categorical(labels_arr, num_classes=len(class_labels))\n",
    "  return images_arr, labels_arr"
   ]
  },
  {
   "cell_type": "code",
   "execution_count": 15,
   "id": "2ebbf085",
   "metadata": {},
   "outputs": [],
   "source": [
    "train_images, val_images, train_labels, val_labels = train_test_split(train_images, \n",
    "                                                                      train_labels, \n",
    "                                                                      test_size=0.25, \n",
    "                                                                      random_state=123)"
   ]
  },
  {
   "cell_type": "code",
   "execution_count": 16,
   "id": "52a7d55a",
   "metadata": {},
   "outputs": [],
   "source": [
    "train_images, train_labels = preprocess_data(train_images, train_labels)\n",
    "val_images, val_labels = preprocess_data(val_images, val_labels)\n",
    "test_images, test_labels = preprocess_data(test_images, test_labels)"
   ]
  },
  {
   "cell_type": "markdown",
   "id": "ce89d916",
   "metadata": {},
   "source": [
    "### Model Building"
   ]
  },
  {
   "cell_type": "code",
   "execution_count": 17,
   "id": "81f31807",
   "metadata": {},
   "outputs": [],
   "source": [
    "def create_cnn_model():\n",
    "  \"\"\"\n",
    "    Defines and returns the CNN model\n",
    "  \"\"\"\n",
    "  cnn_model = Sequential()\n",
    "  cnn_model.add(Conv2D(64, kernel_size=(3, 3), activation='relu', \n",
    "                       kernel_initializer='he_uniform', input_shape=(28, 28, 1)))\n",
    "  cnn_model.add(MaxPooling2D((2, 2)))\n",
    "  cnn_model.add(Dropout(0.25))\n",
    "  cnn_model.add(Flatten())\n",
    "  cnn_model.add(Dense(128, activation='relu', kernel_initializer='he_uniform'))\n",
    "  cnn_model.add(Dense(len(class_labels), activation='softmax'))\n",
    "  \n",
    "  cnn_model.compile(optimizer='adam',\n",
    "                    loss='categorical_crossentropy', \n",
    "                    metrics=['accuracy'])\n",
    "  \n",
    "  return cnn_model"
   ]
  },
  {
   "cell_type": "code",
   "execution_count": 18,
   "id": "a6bd4082",
   "metadata": {},
   "outputs": [],
   "source": [
    "cnn_model = create_cnn_model()"
   ]
  },
  {
   "cell_type": "code",
   "execution_count": 21,
   "id": "8095bf13",
   "metadata": {},
   "outputs": [
    {
     "name": "stdout",
     "output_type": "stream",
     "text": [
      "Epoch 1/10\n",
      "176/176 - 25s - loss: 0.9274 - accuracy: 0.7204 - val_loss: 0.4043 - val_accuracy: 0.8603\n",
      "Epoch 2/10\n",
      "176/176 - 24s - loss: 0.3738 - accuracy: 0.8668 - val_loss: 0.3738 - val_accuracy: 0.8671\n",
      "Epoch 3/10\n",
      "176/176 - 26s - loss: 0.3311 - accuracy: 0.8819 - val_loss: 0.3465 - val_accuracy: 0.8769\n",
      "Epoch 4/10\n",
      "176/176 - 30s - loss: 0.3046 - accuracy: 0.8918 - val_loss: 0.3249 - val_accuracy: 0.8843\n",
      "Epoch 5/10\n",
      "176/176 - 30s - loss: 0.2900 - accuracy: 0.8963 - val_loss: 0.3048 - val_accuracy: 0.8915\n",
      "Epoch 6/10\n",
      "176/176 - 32s - loss: 0.2719 - accuracy: 0.9029 - val_loss: 0.3098 - val_accuracy: 0.8923\n",
      "Epoch 7/10\n",
      "176/176 - 41s - loss: 0.2573 - accuracy: 0.9087 - val_loss: 0.3011 - val_accuracy: 0.8941\n",
      "Epoch 8/10\n",
      "176/176 - 34s - loss: 0.2469 - accuracy: 0.9116 - val_loss: 0.2858 - val_accuracy: 0.9016\n",
      "Epoch 9/10\n",
      "176/176 - 34s - loss: 0.2332 - accuracy: 0.9162 - val_loss: 0.2896 - val_accuracy: 0.8978\n",
      "Epoch 10/10\n",
      "176/176 - 38s - loss: 0.2247 - accuracy: 0.9180 - val_loss: 0.2804 - val_accuracy: 0.9004\n"
     ]
    }
   ],
   "source": [
    "history = cnn_model.fit(train_images, train_labels, batch_size=256, epochs=10, verbose=2, \n",
    "                        validation_data=(val_images, val_labels))"
   ]
  },
  {
   "cell_type": "code",
   "execution_count": 19,
   "id": "5972e027",
   "metadata": {},
   "outputs": [],
   "source": [
    "cnn_model = tf.keras.models.load_model('./model/')"
   ]
  },
  {
   "cell_type": "code",
   "execution_count": 22,
   "id": "5706a38f",
   "metadata": {},
   "outputs": [
    {
     "data": {
      "image/png": "[encoded data removed]",
      "text/plain": [
       "<Figure size 1008x360 with 2 Axes>"
      ]
     },
     "metadata": {
      "needs_background": "light"
     },
     "output_type": "display_data"
    }
   ],
   "source": [
    "plt.figure(figsize=(14,5))\n",
    "plt.subplot(1, 2, 1)\n",
    "plt.suptitle('Training Results', fontsize=15)\n",
    "plt.ylabel('Loss', fontsize=12)\n",
    "plt.xlabel(\"#Epochs\")\n",
    "plt.plot(history.history['loss'], color='blue', label='Training Loss')\n",
    "plt.plot(history.history['val_loss'], color='red', label='Validation Loss')\n",
    "plt.legend(loc='upper right')\n",
    "\n",
    "plt.subplot(1, 2, 2)\n",
    "plt.ylabel('Accuracy', fontsize=12)\n",
    "plt.xlabel(\"#Epochs\")\n",
    "plt.plot(history.history['accuracy'], color='green', label='Training Accuracy')\n",
    "plt.plot(history.history['val_accuracy'], color='orange', label='Validation Accuracy')\n",
    "plt.legend(loc='lower right')\n",
    "plt.show()"
   ]
  },
  {
   "cell_type": "code",
   "execution_count": 23,
   "id": "5cabb3ce",
   "metadata": {},
   "outputs": [],
   "source": [
    "score = cnn_model.evaluate(test_images, test_labels, verbose=0)"
   ]
  },
  {
   "cell_type": "code",
   "execution_count": 24,
   "id": "26da5c94",
   "metadata": {},
   "outputs": [
    {
     "data": {
      "text/plain": [
       "[0.28547152876853943, 0.8977000117301941]"
      ]
     },
     "execution_count": 24,
     "metadata": {},
     "output_type": "execute_result"
    }
   ],
   "source": [
    "score"
   ]
  },
  {
   "cell_type": "code",
   "execution_count": 27,
   "id": "6c16745f",
   "metadata": {},
   "outputs": [
    {
     "data": {
      "text/plain": [
       "[9, 2]"
      ]
     },
     "execution_count": 27,
     "metadata": {},
     "output_type": "execute_result"
    }
   ],
   "source": [
    "np.argmax(cnn_model.predict(test_images[:2]), axis=-1).tolist()"
   ]
  },
  {
   "cell_type": "code",
   "execution_count": 31,
   "id": "5c59828d",
   "metadata": {},
   "outputs": [
    {
     "data": {
      "text/plain": [
       "'Trouser'"
      ]
     },
     "execution_count": 31,
     "metadata": {},
     "output_type": "execute_result"
    }
   ],
   "source": [
    "class_labels[np.argmax(cnn_model.predict(np.array([image_arr])), axis=None, out=None)]"
   ]
  },
  {
   "cell_type": "code",
   "execution_count": null,
   "id": "fa58634c",
   "metadata": {},
   "outputs": [],
   "source": []
  },
  {
   "cell_type": "code",
   "execution_count": null,
   "id": "38b53083",
   "metadata": {},
   "outputs": [],
   "source": []
  }
 ],
 "metadata": {
  "kernelspec": {
   "display_name": "Python 3",
   "language": "python",
   "name": "python3"
  },
  "language_info": {
   "codemirror_mode": {
    "name": "ipython",
    "version": 3
   },
   "file_extension": ".py",
   "mimetype": "text/x-python",
   "name": "python",
   "nbconvert_exporter": "python",
   "pygments_lexer": "ipython3",
   "version": "3.8.10"
  }
 },
 "nbformat": 4,
 "nbformat_minor": 5
}
